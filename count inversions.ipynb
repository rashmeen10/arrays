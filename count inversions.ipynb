{
 "cells": [
  {
   "cell_type": "markdown",
   "metadata": {},
   "source": [
    "### time complexity: o(n^2)"
   ]
  },
  {
   "cell_type": "code",
   "execution_count": null,
   "metadata": {},
   "outputs": [],
   "source": [
    "def getcount(arr,n):\n",
    "    count=0\n",
    "    for i in range(0,n):\n",
    "        for j in range(i+1,n):\n",
    "            if arr[i]>arr[j]:\n",
    "                count+=1\n",
    "    return count\n",
    "\n"
   ]
  },
  {
   "cell_type": "markdown",
   "metadata": {},
   "source": [
    "### tc: o(nlogn) "
   ]
  },
  {
   "cell_type": "code",
   "execution_count": null,
   "metadata": {},
   "outputs": [],
   "source": [
    "\n",
    "def mergeSort(arr, n):\n",
    "    temp_arr = [0]*n\n",
    "    return _mergeSort(arr, temp_arr, 0, n-1)\n",
    "def _mergeSort(arr, temp_arr, left, right):\n",
    "\n",
    "    inv_count = 0\n",
    "    if left < right:\n",
    " \n",
    "        mid = (left + right)//2\n",
    " \n",
    "        inv_count += _mergeSort(arr, temp_arr,\n",
    "                                    left, mid)\n",
    "\n",
    " \n",
    "        inv_count += _mergeSort(arr, temp_arr,\n",
    "                                  mid + 1, right)\n",
    "\n",
    "        inv_count += merge(arr, temp_arr, left, mid, right)\n",
    "    return inv_count\n",
    "def merge(arr, temp_arr, left, mid, right):\n",
    "    i = left     \n",
    "    j = mid + 1 \n",
    "    k = left     \n",
    "    inv_count = 0\n",
    "\n",
    "    while i <= mid and j <= right:\n",
    "        if arr[i] <= arr[j]:\n",
    "            temp_arr[k] = arr[i]\n",
    "            k += 1\n",
    "            i += 1\n",
    "        else:     \n",
    "            temp_arr[k] = arr[j]\n",
    "            inv_count += (mid-i + 1)\n",
    "            k += 1\n",
    "            j += 1\n",
    " \n",
    "    while i <= mid:\n",
    "        temp_arr[k] = arr[i]\n",
    "        k += 1\n",
    "        i += 1\n",
    "\n",
    "    while j <= right:\n",
    "        temp_arr[k] = arr[j]\n",
    "        k += 1\n",
    "        j += 1\n",
    "    for loop_var in range(left, right + 1):\n",
    "        arr[loop_var] = temp_arr[loop_var]\n",
    "         \n",
    "    return inv_count\n",
    " "
   ]
  }
 ],
 "metadata": {
  "kernelspec": {
   "display_name": "Python 3",
   "language": "python",
   "name": "python3"
  },
  "language_info": {
   "codemirror_mode": {
    "name": "ipython",
    "version": 3
   },
   "file_extension": ".py",
   "mimetype": "text/x-python",
   "name": "python",
   "nbconvert_exporter": "python",
   "pygments_lexer": "ipython3",
   "version": "3.8.3"
  }
 },
 "nbformat": 4,
 "nbformat_minor": 4
}
