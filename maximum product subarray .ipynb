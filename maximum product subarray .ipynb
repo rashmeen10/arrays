{
 "cells": [
  {
   "cell_type": "code",
   "execution_count": null,
   "metadata": {},
   "outputs": [],
   "source": [
    "class Solution:\n",
    "    def maxProduct(self, nums: List[int]) -> int:\n",
    "        globall=nums[0]\n",
    "        mini,maxi=nums[0],nums[0]\n",
    "        for i in range(1,len(nums)):\n",
    "            if nums[i]==0:\n",
    "                mini=1\n",
    "                maxi=1\n",
    "                \n",
    "            tmp=maxi\n",
    "            #because we dont want updated value of maximum\n",
    "            \n",
    "            maxi=max({nums[i],nums[i]*maxi,nums[i]*mini})\n",
    "            mini=min({nums[i],nums[i]*tmp,nums[i]*mini})\n",
    "            globall=max(globall,maxi)\n",
    "        return globall\n",
    "                  "
   ]
  }
 ],
 "metadata": {
  "kernelspec": {
   "display_name": "Python 3",
   "language": "python",
   "name": "python3"
  },
  "language_info": {
   "codemirror_mode": {
    "name": "ipython",
    "version": 3
   },
   "file_extension": ".py",
   "mimetype": "text/x-python",
   "name": "python",
   "nbconvert_exporter": "python",
   "pygments_lexer": "ipython3",
   "version": "3.8.3"
  }
 },
 "nbformat": 4,
 "nbformat_minor": 4
}
