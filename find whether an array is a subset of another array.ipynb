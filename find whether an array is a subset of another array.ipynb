{
 "cells": [
  {
   "cell_type": "code",
   "execution_count": null,
   "metadata": {},
   "outputs": [],
   "source": [
    "def subset(arr1,arr2,m,n):\n",
    "    i.j=0,0\n",
    "    for i in range(m):\n",
    "        for j in range(n):\n",
    "            if arr[i]==arr[j]:\n",
    "                break\n",
    "        if j==m:\n",
    "            return 0\n",
    "                  "
   ]
  },
  {
   "cell_type": "code",
   "execution_count": null,
   "metadata": {},
   "outputs": [],
   "source": [
    "def using_hashing(arr1,arr2,m,n):\n",
    "    hashset=set()\n",
    "    for i in range(0,m):\n",
    "        hashset.add(arr[i])\n",
    "    for i in range(0,n):\n",
    "        if arr2[i] in hashset:\n",
    "            continue\n",
    "        else:\n",
    "            return False"
   ]
  }
 ],
 "metadata": {
  "kernelspec": {
   "display_name": "Python 3",
   "language": "python",
   "name": "python3"
  },
  "language_info": {
   "codemirror_mode": {
    "name": "ipython",
    "version": 3
   },
   "file_extension": ".py",
   "mimetype": "text/x-python",
   "name": "python",
   "nbconvert_exporter": "python",
   "pygments_lexer": "ipython3",
   "version": "3.8.3"
  }
 },
 "nbformat": 4,
 "nbformat_minor": 4
}
