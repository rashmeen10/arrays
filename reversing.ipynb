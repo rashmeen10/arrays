{
 "cells": [
  {
   "cell_type": "code",
   "execution_count": null,
   "metadata": {},
   "outputs": [],
   "source": [
    "def reverselist(a, start,end):\n",
    "    while start < end:\n",
    "        a[start],a[end]=a[end],a[start]\n",
    "        start+=1\n",
    "        end-=1\n",
    "a=[8,6,1,9,5,3]\n",
    "print(a)\n",
    "reverselist(a,0,5)\n",
    "print('reversed list is')\n",
    "print(a)"
   ]
  }
 ],
 "metadata": {
  "kernelspec": {
   "display_name": "Python 3",
   "language": "python",
   "name": "python3"
  },
  "language_info": {
   "codemirror_mode": {
    "name": "ipython",
    "version": 3
   },
   "file_extension": ".py",
   "mimetype": "text/x-python",
   "name": "python",
   "nbconvert_exporter": "python",
   "pygments_lexer": "ipython3",
   "version": "3.8.3"
  }
 },
 "nbformat": 4,
 "nbformat_minor": 4
}
