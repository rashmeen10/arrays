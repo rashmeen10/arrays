{
 "cells": [
  {
   "cell_type": "code",
   "execution_count": null,
   "metadata": {},
   "outputs": [],
   "source": [
    "class Solution:\n",
    "\n",
    "    def maxSubArray(self, nums: List[int]) -> int:\n",
    "        msf=-999\n",
    "        meh=0\n",
    "        if len(nums)==1:\n",
    "            return nums[0]\n",
    "        for i in range(0,len(nums)):\n",
    "            meh = meh+nums[i]\n",
    "            if msf<meh:\n",
    "                msf=meh\n",
    "            if meh<0:\n",
    "                meh=0\n",
    "        return msf\n",
    "  "
   ]
  }
 ],
 "metadata": {
  "kernelspec": {
   "display_name": "Python 3",
   "language": "python",
   "name": "python3"
  },
  "language_info": {
   "codemirror_mode": {
    "name": "ipython",
    "version": 3
   },
   "file_extension": ".py",
   "mimetype": "text/x-python",
   "name": "python",
   "nbconvert_exporter": "python",
   "pygments_lexer": "ipython3",
   "version": "3.8.3"
  }
 },
 "nbformat": 4,
 "nbformat_minor": 4
}
