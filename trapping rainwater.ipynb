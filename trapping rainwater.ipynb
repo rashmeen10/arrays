{
 "cells": [
  {
   "cell_type": "code",
   "execution_count": null,
   "metadata": {},
   "outputs": [],
   "source": [
    "    def trap(self, height: List[int]) -> int:\n",
    "        rainWater = 0\n",
    "        \n",
    "        for i in range(1, len(height)-1):\n",
    "            temp = min(max(height[:i]),max(height[i+1:])) - height[i]\n",
    "            if temp > 0:\n",
    "                rainWater+=temp\n",
    "        \n",
    "        return (rainWater)\n",
    "                  "
   ]
  }
 ],
 "metadata": {
  "kernelspec": {
   "display_name": "Python 3",
   "language": "python",
   "name": "python3"
  },
  "language_info": {
   "codemirror_mode": {
    "name": "ipython",
    "version": 3
   },
   "file_extension": ".py",
   "mimetype": "text/x-python",
   "name": "python",
   "nbconvert_exporter": "python",
   "pygments_lexer": "ipython3",
   "version": "3.8.3"
  }
 },
 "nbformat": 4,
 "nbformat_minor": 4
}
