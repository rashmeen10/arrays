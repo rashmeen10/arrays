{
 "cells": [
  {
   "cell_type": "code",
   "execution_count": null,
   "metadata": {},
   "outputs": [],
   "source": [
    "def common(a,b,c):\n",
    "    i,j,k=0,0,0\n",
    "    if a[i]==b[j] and b[j]==c[k]:\n",
    "        print(arr[i])\n",
    "        i+=1\n",
    "        j+=1\n",
    "        k+=1\n",
    "    elif a[i]<b[j]:\n",
    "        i+=1\n",
    "    elif b[j]< c[k]:\n",
    "        j+=1\n",
    "    else:\n",
    "        k+=1"
   ]
  }
 ],
 "metadata": {
  "kernelspec": {
   "display_name": "Python 3",
   "language": "python",
   "name": "python3"
  },
  "language_info": {
   "codemirror_mode": {
    "name": "ipython",
    "version": 3
   },
   "file_extension": ".py",
   "mimetype": "text/x-python",
   "name": "python",
   "nbconvert_exporter": "python",
   "pygments_lexer": "ipython3",
   "version": "3.8.3"
  }
 },
 "nbformat": 4,
 "nbformat_minor": 4
}
