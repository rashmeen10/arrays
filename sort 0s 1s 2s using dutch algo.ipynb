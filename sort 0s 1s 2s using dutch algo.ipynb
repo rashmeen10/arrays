{
 "cells": [
  {
   "cell_type": "code",
   "execution_count": null,
   "metadata": {},
   "outputs": [],
   "source": [
    "def sort012( a, arr_size):\n",
    "    lo = 0\n",
    "    hi = arr_size - 1\n",
    "    mid = 0\n",
    "    while mid <= hi:\n",
    "        if a[mid] == 0:\n",
    "            a[lo], a[mid] = a[mid], a[lo]\n",
    "            lo = lo + 1\n",
    "            mid = mid + 1\n",
    "        elif a[mid] == 1:\n",
    "            mid = mid + 1\n",
    "        else:\n",
    "            a[mid], a[hi] = a[hi], a[mid]\n",
    "            hi = hi - 1\n",
    "    return a"
   ]
  }
 ],
 "metadata": {
  "kernelspec": {
   "display_name": "Python 3",
   "language": "python",
   "name": "python3"
  },
  "language_info": {
   "codemirror_mode": {
    "name": "ipython",
    "version": 3
   },
   "file_extension": ".py",
   "mimetype": "text/x-python",
   "name": "python",
   "nbconvert_exporter": "python",
   "pygments_lexer": "ipython3",
   "version": "3.8.3"
  }
 },
 "nbformat": 4,
 "nbformat_minor": 4
}
