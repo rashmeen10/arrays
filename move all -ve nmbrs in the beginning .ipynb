{
 "cells": [
  {
   "cell_type": "code",
   "execution_count": null,
   "metadata": {},
   "outputs": [],
   "source": [
    "def shiftall(arr,left,right):\n",
    "  while left<=right:\n",
    "    if arr[left] < 0 and arr[right] < 0:\n",
    "      left+=1\n",
    "\n",
    "    elif arr[left]>0 and arr[right]<0:\n",
    "      arr[left], arr[right] =  arr[right],arr[left]\n",
    "      left+=1\n",
    "      right-=1\n",
    "\n",
    "    elif arr[left]>0 and arr[right]>0:\n",
    "      right-=1\n",
    "    else:\n",
    "      left+=1\n",
    "      right-=1"
   ]
  }
 ],
 "metadata": {
  "kernelspec": {
   "display_name": "Python 3",
   "language": "python",
   "name": "python3"
  },
  "language_info": {
   "codemirror_mode": {
    "name": "ipython",
    "version": 3
   },
   "file_extension": ".py",
   "mimetype": "text/x-python",
   "name": "python",
   "nbconvert_exporter": "python",
   "pygments_lexer": "ipython3",
   "version": "3.8.3"
  }
 },
 "nbformat": 4,
 "nbformat_minor": 4
}
