{
 "cells": [
  {
   "cell_type": "code",
   "execution_count": null,
   "metadata": {},
   "outputs": [],
   "source": [
    "class Solution:\n",
    "     def maxProfit(self, prices: List[int]) -> int:\n",
    "        n=len(prices)\n",
    "        minimum=prices[0]\n",
    "        profit=0\n",
    "        ans=0\n",
    "        for i in prices[1:]:\n",
    "            if i>=minimum:\n",
    "                profit=i-minimum\n",
    "                \n",
    "            if i<minimum:\n",
    "                minimum=i\n",
    "            ans=max(ans,profit)\n",
    "        return ans\n"
   ]
  }
 ],
 "metadata": {
  "kernelspec": {
   "display_name": "Python 3",
   "language": "python",
   "name": "python3"
  },
  "language_info": {
   "codemirror_mode": {
    "name": "ipython",
    "version": 3
   },
   "file_extension": ".py",
   "mimetype": "text/x-python",
   "name": "python",
   "nbconvert_exporter": "python",
   "pygments_lexer": "ipython3",
   "version": "3.8.3"
  }
 },
 "nbformat": 4,
 "nbformat_minor": 4
}
