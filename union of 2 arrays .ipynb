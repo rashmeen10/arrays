{
 "cells": [
  {
   "cell_type": "code",
   "execution_count": null,
   "metadata": {},
   "outputs": [],
   "source": [
    "def printunion(arr1 ,arr2, m,n):\n",
    "    i,j=0,0\n",
    "    while i<m and j<n:\n",
    "        if arr1[i]< arr2[j]:\n",
    "            print(arr1[i])\n",
    "            i+=1\n",
    "        elif arr2[j]<arr[i]:\n",
    "            print(arr2[j])\n",
    "            j+=1\n",
    "            \n",
    "        else:\n",
    "            print(arr2[j])\n",
    "            j+=1\n",
    "            i+=1\n",
    "    while i<m:\n",
    "        print(arr1[i])\n",
    "        i+=1\n",
    "    while j<n:\n",
    "        print(arr2[j])\n",
    "        j+=1\n"
   ]
  }
 ],
 "metadata": {
  "kernelspec": {
   "display_name": "Python 3",
   "language": "python",
   "name": "python3"
  },
  "language_info": {
   "codemirror_mode": {
    "name": "ipython",
    "version": 3
   },
   "file_extension": ".py",
   "mimetype": "text/x-python",
   "name": "python",
   "nbconvert_exporter": "python",
   "pygments_lexer": "ipython3",
   "version": "3.8.3"
  }
 },
 "nbformat": 4,
 "nbformat_minor": 4
}
