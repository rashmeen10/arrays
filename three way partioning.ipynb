{
 "cells": [
  {
   "cell_type": "code",
   "execution_count": null,
   "metadata": {},
   "outputs": [],
   "source": [
    "def threeway(arr,n,lowval,maxval):\n",
    "    start,end= 0,n-1\n",
    "    i=0\n",
    "    while i<end:\n",
    "        if arr[i]<lowval:\n",
    "            arr[start],arr[i]=arr[i],arr[start]\n",
    "            i+=1\n",
    "            start+=1\n",
    "        elif arr[i]>maxval:\n",
    "            arr[end],arr[i]=arr[i],arr[end]\n",
    "            end-=1\n",
    "        else:\n",
    "            i+=1"
   ]
  }
 ],
 "metadata": {
  "kernelspec": {
   "display_name": "Python 3",
   "language": "python",
   "name": "python3"
  },
  "language_info": {
   "codemirror_mode": {
    "name": "ipython",
    "version": 3
   },
   "file_extension": ".py",
   "mimetype": "text/x-python",
   "name": "python",
   "nbconvert_exporter": "python",
   "pygments_lexer": "ipython3",
   "version": "3.8.3"
  }
 },
 "nbformat": 4,
 "nbformat_minor": 4
}
