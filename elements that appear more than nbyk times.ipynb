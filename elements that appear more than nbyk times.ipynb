{
 "cells": [
  {
   "cell_type": "code",
   "execution_count": null,
   "metadata": {},
   "outputs": [],
   "source": [
    "class Solution:\n",
    "       def majorityElement(self, nums: List[int]) -> List[int]:\n",
    "            x=(len(nums))//3\n",
    "            freq={}\n",
    "            for i in range(len(nums)):\n",
    "                if nums[i] in freq:\n",
    "                    freq[nums[i]]+=1\n",
    "                else:\n",
    "                     freq[nums[i]]=1\n",
    "            for i in freq:\n",
    "                if freq[i]>x:\n",
    "                    print(i)\n",
    "                  "
   ]
  },
  {
   "cell_type": "code",
   "execution_count": null,
   "metadata": {},
   "outputs": [],
   "source": [
    "class Solution:\n",
    "    def majorityElement(self, nums: List[int]) -> List[int]:\n",
    "        threshold = len(nums) / 3\n",
    "        for elem in set(nums):\n",
    "            if nums.count(elem) > threshold:\n",
    "                yield elem"
   ]
  }
 ],
 "metadata": {
  "kernelspec": {
   "display_name": "Python 3",
   "language": "python",
   "name": "python3"
  },
  "language_info": {
   "codemirror_mode": {
    "name": "ipython",
    "version": 3
   },
   "file_extension": ".py",
   "mimetype": "text/x-python",
   "name": "python",
   "nbconvert_exporter": "python",
   "pygments_lexer": "ipython3",
   "version": "3.8.3"
  }
 },
 "nbformat": 4,
 "nbformat_minor": 4
}
